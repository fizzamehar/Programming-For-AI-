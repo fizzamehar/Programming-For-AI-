{
 "cells": [
  {
   "cell_type": "code",
   "execution_count": 6,
   "metadata": {},
   "outputs": [
    {
     "name": "stdout",
     "output_type": "stream",
     "text": [
      "Total solutions for 4-Queens: 2\n",
      "Solution 1:\n",
      "- - Q -\n",
      "Q - - -\n",
      "- - - Q\n",
      "- Q - -\n",
      "\n",
      "Solution 2:\n",
      "- Q - -\n",
      "- - - Q\n",
      "Q - - -\n",
      "- - Q -\n",
      "\n"
     ]
    }
   ],
   "source": [
    "def is_place(board, row, col, size):\n",
    "    for i  in range(col):\n",
    "        if board[row][i] == 1:\n",
    "            return False\n",
    "    \n",
    "    for j, i in zip(range(row, -1, -1), range(col, -1, -1)):\n",
    "        if board[j][i] == 1:\n",
    "            return False\n",
    "    \n",
    "    for j, i in zip(range(row, size, 1), range(col, -1, -1)):\n",
    "        if board[j][i] == 1:\n",
    "            return False\n",
    "    \n",
    "    return True\n",
    "\n",
    "def place_queens(board, col, size, solutions):\n",
    "    if col >= size:\n",
    "        solutions.append([row[:] for row in board])\n",
    "        return\n",
    "    \n",
    "    for row in range(size):\n",
    "        if is_place(board, row, col, size):\n",
    "            board[row][col] = 1\n",
    "            place_queens(board, col + 1, size, solutions)\n",
    "            board[row][col] = 0  \n",
    "\n",
    "def solve_n_queens(size):\n",
    "    board = [[0] * size for _ in range(size)]\n",
    "    solutions = []\n",
    "    place_queens(board, 0, size, solutions)\n",
    "    return solutions\n",
    "\n",
    "def show_solutions(solutions, size):\n",
    "    for idx, solution in enumerate(solutions):\n",
    "        print(f\"Solution {idx + 1}:\")\n",
    "        for row in solution:\n",
    "            print(\" \".join(\"Q\" if cell else \"-\" for cell in row))\n",
    "        print()\n",
    "\n",
    "size = 4\n",
    "solutions = solve_n_queens(size)\n",
    "print(f\"Total solutions for {size}-Queens: {len(solutions)}\")\n",
    "show_solutions(solutions, size)\n"
   ]
  },
  {
   "cell_type": "code",
   "execution_count": null,
   "metadata": {},
   "outputs": [],
   "source": []
  }
 ],
 "metadata": {
  "kernelspec": {
   "display_name": "Python 3",
   "language": "python",
   "name": "python3"
  },
  "language_info": {
   "codemirror_mode": {
    "name": "ipython",
    "version": 3
   },
   "file_extension": ".py",
   "mimetype": "text/x-python",
   "name": "python",
   "nbconvert_exporter": "python",
   "pygments_lexer": "ipython3",
   "version": "3.12.1"
  }
 },
 "nbformat": 4,
 "nbformat_minor": 2
}
