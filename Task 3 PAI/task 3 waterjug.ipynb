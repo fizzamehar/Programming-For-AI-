{
 "cells": [
  {
   "cell_type": "code",
   "execution_count": 7,
   "metadata": {},
   "outputs": [
    {
     "name": "stdout",
     "output_type": "stream",
     "text": [
      "Rules for filling waterjug:\n",
      "1.Fill Jug 1 complete.\n",
      "2.Fill Jug 2 complete.\n",
      "3.Empty the Jug 1.\n",
      "4.Empty the Jug 2.\n",
      "5.Pour water from Jug 1 into Jug 2 until the Jug 2 is full or Jug 1 is empty.\n",
      "6.Pour water from Jug 2 into Jug 1 until Jug 1 is full or Jug 2 is empty.\n",
      "Solution found: [(0, 0), (0, 3), (3, 0), (3, 3), (4, 2)]\n"
     ]
    },
    {
     "data": {
      "text/plain": [
       "[(0, 0), (0, 3), (3, 0), (3, 3), (4, 2)]"
      ]
     },
     "execution_count": 7,
     "metadata": {},
     "output_type": "execute_result"
    }
   ],
   "source": [
    "def waterjug_dfs(jug_1, jug_2, target):\n",
    "    stack = [(0, 0)]  \n",
    "    visited = set()\n",
    "    path = []\n",
    "    \n",
    "    while stack:\n",
    "        jug1, jug2 = stack.pop()\n",
    "        \n",
    "        if (jug1, jug2) in visited:\n",
    "            continue\n",
    "        \n",
    "        visited.add((jug1, jug2))\n",
    "        path.append((jug1, jug2))\n",
    "        \n",
    "        if target in (jug1, jug2):\n",
    "            print(\"Solution is found:\", path)\n",
    "            return path\n",
    "\n",
    "        next_states = [\n",
    "            (jug_1, jug2),  \n",
    "            (jug1, jug_2),  \n",
    "            (0, jug2),        \n",
    "            (jug1, 0),       \n",
    "            (max(0, jug1 - (jug_2 - jug2)), min(jug_2, jug1 + jug2)), \n",
    "            (min(jug_1, jug1 + jug2), max(0, jug2 - (jug_1 - jug1)))  \n",
    "        ]\n",
    "        for state in next_states:\n",
    "            if state not in visited:\n",
    "                stack.append(state)\n",
    "    \n",
    "    print(\"No solution is found\")\n",
    "    return None\n",
    "\n",
    "print(\"Rules for filling the waterjug:\")\n",
    "print(\"1.Fill Jug 1 complete.\")\n",
    "print(\"2.Fill Jug 2 complete.\")\n",
    "print(\"3.Empty the Jug 1.\")\n",
    "print(\"4.Empty the Jug 2.\")\n",
    "print(\"5.Pour water from Jug 1 into Jug 2 until the Jug 2 is full or Jug 1 is empty.\")\n",
    "print(\"6.Pour water from Jug 2 into Jug 1 until Jug 1 is full or Jug 2 is empty.\")\n",
    "\n",
    "waterjug_dfs(4,3,2)\n"
   ]
  },
  {
   "cell_type": "code",
   "execution_count": null,
   "metadata": {},
   "outputs": [],
   "source": []
  }
 ],
 "metadata": {
  "kernelspec": {
   "display_name": "Python 3",
   "language": "python",
   "name": "python3"
  },
  "language_info": {
   "codemirror_mode": {
    "name": "ipython",
    "version": 3
   },
   "file_extension": ".py",
   "mimetype": "text/x-python",
   "name": "python",
   "nbconvert_exporter": "python",
   "pygments_lexer": "ipython3",
   "version": "3.12.1"
  }
 },
 "nbformat": 4,
 "nbformat_minor": 2
}
